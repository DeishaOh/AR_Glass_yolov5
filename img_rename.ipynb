{
 "cells": [
  {
   "cell_type": "code",
   "execution_count": 3,
   "id": "35353582",
   "metadata": {},
   "outputs": [],
   "source": [
    "import os \n",
    "import cv2\n",
    "\n",
    "#base_path = 'C:/Users/'유저명'/Desktop/'\n",
    "base_path = 'C:/Users/rk401/Desktop/'\n",
    "\n",
    "# 해당 폴더에 있는 파일 이름을 리스트 형태로 받음\n",
    "#files = os.listdir(base_path + '경로')\n",
    "files = os.listdir(base_path + 'rename')\n",
    "\n",
    "# 이미지 이름 바꾸기\n",
    "for i in range(len(files)):\n",
    "    #바꿀 파일들이 있는 경로\n",
    "    #old_name = os.path.join('경로', files[i])\n",
    "    old_name = os.path.join(base_path+'rename', files[i])\n",
    "    \n",
    "    #바꾼 파일들이 저장될 경로\n",
    "    #new_name = os.path.join('경로', \"파일명{}.jpg\".format(i))\n",
    "    new_name = os.path.join(base_path+'rrename', \"test_{}.jpg\".format(i))\n",
    "    \n",
    "    #라벨명 교체\n",
    "    #new_name = os.path.join(djul, \"julim{}_darkness.txt\".format(i))\n",
    "    \n",
    "    os.rename(old_name, new_name)"
   ]
  },
  {
   "cell_type": "code",
   "execution_count": null,
   "id": "0088bad2",
   "metadata": {},
   "outputs": [],
   "source": []
  }
 ],
 "metadata": {
  "kernelspec": {
   "display_name": "Python 3 (ipykernel)",
   "language": "python",
   "name": "python3"
  },
  "language_info": {
   "codemirror_mode": {
    "name": "ipython",
    "version": 3
   },
   "file_extension": ".py",
   "mimetype": "text/x-python",
   "name": "python",
   "nbconvert_exporter": "python",
   "pygments_lexer": "ipython3",
   "version": "3.9.12"
  }
 },
 "nbformat": 4,
 "nbformat_minor": 5
}
