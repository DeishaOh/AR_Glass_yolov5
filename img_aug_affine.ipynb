{
 "cells": [
  {
   "cell_type": "code",
   "execution_count": 36,
   "id": "a2935ed5",
   "metadata": {},
   "outputs": [],
   "source": [
    "import os\n",
    "import imageio\n",
    "import imgaug as ia\n",
    "import imgaug.augmenters as iaa\n",
    "from imgaug.augmentables.bbs import BoundingBox, BoundingBoxesOnImage\n",
    "#%matplotlib inline\n",
    "\n",
    "folder_root = 'C:/Users/rk401/Desktop/main_aug/'\n",
    "#folder_root = '/home/user1/anaconda3/0.data/train/'\n",
    "save_img_path = folder_root + 'images'\n",
    "save_label_path = folder_root + 'labels'\n",
    "\n",
    "def convert(size, box) :\n",
    "    x1 = (box[1] - box[3] / 2) * size[0]\n",
    "    x2 = (box[1] + box[3] / 2) * size[0]\n",
    "    y1 = (box[2] - box[4] / 2) * size[1]\n",
    "    y2 = (box[2] + box[4] / 2) * size[1]\n",
    "\n",
    "    return [x1, y1, x2, y2]\n",
    "    \n",
    "\n",
    "def revert(size, box): # box : [x1,y1,x2,y2]\n",
    "    dw = 1./size[0] \n",
    "    dh = 1./size[1] \n",
    "    x = (box[0] + box[2])/2.0 \n",
    "    y = (box[1] + box[3])/2.0 \n",
    "    w = box[2] - box[0] \n",
    "    h = box[3] - box[1] \n",
    "    x = x*dw \n",
    "    w = w*dw \n",
    "    y = y*dh \n",
    "    h = h*dh \n",
    "    \n",
    "    return [x,y,w,h]\n",
    "\n",
    "\n",
    "def readBound(imgname, label_index) :\n",
    "    with open(folder_root + 'labels/main_' + str(label_index) + '.txt', 'r') as f :\n",
    "        s = f.read()\n",
    "    s = s.replace('\\n', '')\n",
    "    result = s.split(' ')\n",
    "    for i in range(len(result)) :\n",
    "        result[i] = float(result[i])\n",
    "    return result\n",
    "\n",
    "\n",
    "filepath = folder_root + 'images/'\n",
    "\n",
    "def augimg(idx, imgname, label_index) :\n",
    "        bound = readBound(imgname, label_index) # 상대좌표 (x_start, y_start, width, height)를 읽어옵니다.\n",
    "        class_num = int(bound[0]) # class_num에 클래스를 저장합니다.\n",
    "        image = imageio.imread(filepath+imgname+\".jpg\") # 이미지를 불러옵니다.\n",
    "        size = image.shape # 불러온 이미지의 size를 저장합니다.\n",
    "        point = convert(size, bound) # 상대좌표 (x_start, y_start, width, height) -> 절대좌표 (x_start, y_start, x_end, y_end)\n",
    "        \n",
    "        bbs = BoundingBoxesOnImage([\n",
    "            BoundingBox(x1=point[0], y1=point[1], x2=point[2], y2=point[3])\n",
    "        ], shape=image.shape)\n",
    "\n",
    "        # 실제 Augmentation 인자를 추가하는 부분입니다. Documentation을 참고하여 원하는 인자를 선택해주세요!\n",
    "        seq = iaa.Sequential([\n",
    "            iaa.Affine(scale=(0.5, 1.5)),\n",
    "            iaa.Affine(scale={\"x\": (0.5, 1.5), \"y\": (0.5, 1.5)}),\n",
    "            iaa.Affine(rotate=(-45, 45)),\n",
    "            iaa.Affine(shear=(-16, 16)),\n",
    "        ])\n",
    "\n",
    "        # 이미지에 대해 Augmentation을 진행합니다. Rotation과 같은 인자가 있다면 Bounding Box의 좌표 역시 바뀌어야 합니다.\n",
    "        image_aug, bbs_aug = seq(image=image, bounding_boxes=bbs)\n",
    "       \n",
    "        before = bbs.bounding_boxes[0]\n",
    "        after = bbs_aug.bounding_boxes[0]\n",
    "        \n",
    "        aug_box = [after.x1, after.y1, after.x2, after.y2]\n",
    "        aug_box = revert(size, aug_box)\n",
    "        aug_box = [class_num] + aug_box\n",
    "        \n",
    "        for i in range(1, len(aug_box)) :\n",
    "            aug_box[i] = round(aug_box[i], 6)\n",
    "        for i in range(len(aug_box)) :\n",
    "            aug_box[i] = str(aug_box[i])\n",
    "        \n",
    "        # 증강된 이미지에 대한 상대적인 Bounding Box좌표(x_start, y_start, width, height)를 txt파일 형태로 저장합니다. \n",
    "        with open(f\"{save_label_path}/{imgname}\"+\"_aug\"+f\"{idx}\"+\".txt\", 'w') as f :\n",
    "            f.writelines([aug_box[0], ' ', aug_box[1], ' ', aug_box[2] , ' ', aug_box[3], ' ', aug_box[4], '\\n'])\n",
    "        \n",
    "        # 증강된 이미지를 저장합니다.\n",
    "        imageio.imwrite(f\"{save_img_path}/{imgname}\"+\"_aug\"+f\"{idx}\"+\".jpg\", image_aug)\n",
    "\n",
    "\n",
    "\n",
    "\n"
   ]
  },
  {
   "cell_type": "code",
   "execution_count": 37,
   "id": "e159fb59",
   "metadata": {},
   "outputs": [
    {
     "name": "stdout",
     "output_type": "stream",
     "text": [
      "1\n"
     ]
    }
   ],
   "source": [
    "print(len(os.listdir()))"
   ]
  },
  {
   "cell_type": "code",
   "execution_count": 38,
   "id": "155cd217",
   "metadata": {},
   "outputs": [
    {
     "name": "stdout",
     "output_type": "stream",
     "text": [
      "['main_17.jpg']\n"
     ]
    }
   ],
   "source": [
    "print(os.listdir())"
   ]
  },
  {
   "cell_type": "code",
   "execution_count": 39,
   "id": "23949b05",
   "metadata": {},
   "outputs": [],
   "source": [
    "os.chdir(save_img_path)\n",
    "\n",
    "namelist = []\n",
    "for i in range(len(os.listdir())):\n",
    "    file_fullname = os.listdir()[i]\n",
    "    file_name = os.path.splitext(file_fullname)\n",
    "    namelist.append(file_name[0])\n",
    "\n",
    "imgs =  namelist # file path 내에 있는 이미지의 이름입니다.\n"
   ]
  },
  {
   "cell_type": "code",
   "execution_count": 40,
   "id": "bb35cd26",
   "metadata": {},
   "outputs": [
    {
     "name": "stdout",
     "output_type": "stream",
     "text": [
      "['main_17.jpg']\n"
     ]
    }
   ],
   "source": [
    "print(os.listdir())"
   ]
  },
  {
   "cell_type": "code",
   "execution_count": 41,
   "id": "1c4e8cc0",
   "metadata": {},
   "outputs": [
    {
     "name": "stdout",
     "output_type": "stream",
     "text": [
      "['main_17']\n"
     ]
    }
   ],
   "source": [
    "print(namelist)"
   ]
  },
  {
   "cell_type": "code",
   "execution_count": 42,
   "id": "df3150c0",
   "metadata": {},
   "outputs": [
    {
     "name": "stdout",
     "output_type": "stream",
     "text": [
      "['main_17']\n"
     ]
    }
   ],
   "source": [
    "print(imgs)"
   ]
  },
  {
   "cell_type": "code",
   "execution_count": 43,
   "id": "8e64bacf",
   "metadata": {},
   "outputs": [
    {
     "name": "stderr",
     "output_type": "stream",
     "text": [
      "C:\\Users\\rk401\\AppData\\Local\\Temp\\ipykernel_8608\\250341190.py:52: DeprecationWarning: Starting with ImageIO v3 the behavior of this function will switch to that of iio.v3.imread. To keep the current behavior (and make this warning dissapear) use `import imageio.v2 as imageio` or call `imageio.v2.imread` directly.\n",
      "  image = imageio.imread(filepath+imgname+\".jpg\") # 이미지를 불러옵니다.\n"
     ]
    }
   ],
   "source": [
    "\n",
    "for label_index in range(len(os.listdir())):\n",
    "    for i in imgs :\n",
    "        for j in range(25) : # file path내에 있는 각 이미지를 500장씩 증강합니다.\n",
    "            augimg(j, i, label_index+17)"
   ]
  },
  {
   "cell_type": "code",
   "execution_count": null,
   "id": "2a01a06b",
   "metadata": {},
   "outputs": [],
   "source": []
  },
  {
   "cell_type": "code",
   "execution_count": null,
   "id": "1a5f6e06",
   "metadata": {},
   "outputs": [],
   "source": []
  }
 ],
 "metadata": {
  "kernelspec": {
   "display_name": "Python 3 (ipykernel)",
   "language": "python",
   "name": "python3"
  },
  "language_info": {
   "codemirror_mode": {
    "name": "ipython",
    "version": 3
   },
   "file_extension": ".py",
   "mimetype": "text/x-python",
   "name": "python",
   "nbconvert_exporter": "python",
   "pygments_lexer": "ipython3",
   "version": "3.9.12"
  }
 },
 "nbformat": 4,
 "nbformat_minor": 5
}
