{
 "cells": [
  {
   "cell_type": "code",
   "execution_count": 1,
   "id": "fbd76e7a",
   "metadata": {},
   "outputs": [],
   "source": [
    "import cv2"
   ]
  },
  {
   "cell_type": "code",
   "execution_count": 2,
   "id": "0768400f",
   "metadata": {},
   "outputs": [],
   "source": [
    "root_folder = 'C:/Users/rk401/Desktop/'\n",
    "#img = cv2.imread(folder + 'rename/python.jpg')\n",
    "#for i in range(200):\n",
    "#    img = cv2.imread(root_folder + 'rename/saeng_gang{}.jpg'.format(i+992))\n",
    "#    print('읽음' + str(i))"
   ]
  },
  {
   "cell_type": "code",
   "execution_count": 6,
   "id": "03752c4a",
   "metadata": {},
   "outputs": [
    {
     "name": "stdout",
     "output_type": "stream",
     "text": [
      "읽음547\n"
     ]
    },
    {
     "ename": "error",
     "evalue": "OpenCV(4.6.0) D:\\a\\opencv-python\\opencv-python\\opencv\\modules\\imgcodecs\\src\\loadsave.cpp:801: error: (-215:Assertion failed) !_img.empty() in function 'cv::imwrite'\n",
     "output_type": "error",
     "traceback": [
      "\u001b[1;31m---------------------------------------------------------------------------\u001b[0m",
      "\u001b[1;31merror\u001b[0m                                     Traceback (most recent call last)",
      "Input \u001b[1;32mIn [6]\u001b[0m, in \u001b[0;36m<cell line: 1>\u001b[1;34m()\u001b[0m\n\u001b[0;32m      6\u001b[0m img_rotate_90_counterclockwise \u001b[38;5;241m=\u001b[39m cv2\u001b[38;5;241m.\u001b[39mrotate(img, cv2\u001b[38;5;241m.\u001b[39mROTATE_90_COUNTERCLOCKWISE)\n\u001b[0;32m      7\u001b[0m \u001b[38;5;66;03m#img_rotate_180 = cv2.rotate(img, cv2.ROTATE_180)\u001b[39;00m\n\u001b[1;32m----> 8\u001b[0m \u001b[43mcv2\u001b[49m\u001b[38;5;241;43m.\u001b[39;49m\u001b[43mimwrite\u001b[49m\u001b[43m(\u001b[49m\u001b[43mroot_folder\u001b[49m\u001b[43m \u001b[49m\u001b[38;5;241;43m+\u001b[39;49m\u001b[43m \u001b[49m\u001b[38;5;124;43m'\u001b[39;49m\u001b[38;5;124;43mrrename/saeng_gang\u001b[39;49m\u001b[38;5;132;43;01m{}\u001b[39;49;00m\u001b[38;5;124;43m.jpg\u001b[39;49m\u001b[38;5;124;43m'\u001b[39;49m\u001b[38;5;241;43m.\u001b[39;49m\u001b[43mformat\u001b[49m\u001b[43m(\u001b[49m\u001b[43mi\u001b[49m\u001b[38;5;241;43m+\u001b[39;49m\u001b[38;5;241;43m578\u001b[39;49m\u001b[43m)\u001b[49m\u001b[43m,\u001b[49m\u001b[43m \u001b[49m\u001b[43mimg_rotate_90_counterclockwise\u001b[49m\u001b[43m)\u001b[49m\n\u001b[0;32m      9\u001b[0m \u001b[38;5;28;01mif\u001b[39;00m i\u001b[38;5;241m%\u001b[39m\u001b[38;5;241m10\u001b[39m\u001b[38;5;241m==\u001b[39m\u001b[38;5;241m0\u001b[39m:\n\u001b[0;32m     10\u001b[0m     \u001b[38;5;28mprint\u001b[39m(\u001b[38;5;124m'\u001b[39m\u001b[38;5;124m읽음\u001b[39m\u001b[38;5;124m'\u001b[39m \u001b[38;5;241m+\u001b[39m \u001b[38;5;28mstr\u001b[39m(i\u001b[38;5;241m+\u001b[39m\u001b[38;5;241m547\u001b[39m))\n",
      "\u001b[1;31merror\u001b[0m: OpenCV(4.6.0) D:\\a\\opencv-python\\opencv-python\\opencv\\modules\\imgcodecs\\src\\loadsave.cpp:801: error: (-215:Assertion failed) !_img.empty() in function 'cv::imwrite'\n"
     ]
    }
   ],
   "source": [
    "for i in range(200):\n",
    "    img = cv2.imread(root_folder + 'rename/saeng_gang{}.jpg'.format(i+578))\n",
    "    \n",
    "    #시계방향\n",
    "    #img_rotate_90_clockwise = cv2.rotate(img, cv2.ROTATE_90_CLOCKWISE)\n",
    "    img_rotate_90_counterclockwise = cv2.rotate(img, cv2.ROTATE_90_COUNTERCLOCKWISE)\n",
    "    #img_rotate_180 = cv2.rotate(img, cv2.ROTATE_180)\n",
    "    cv2.imwrite(root_folder + 'rrename/saeng_gang{}.jpg'.format(i+578), img_rotate_90_counterclockwise)\n",
    "    if i%10==0:\n",
    "        print('읽음' + str(i+547))\n",
    "\n",
    "#시계방향\n",
    "#img_rotate_90_clockwise = cv2.rotate(img, cv2.ROTATE_90_CLOCKWISE)\n",
    "#cv2.imwrite(root_folder + 'rrename/saeng_gang{}.png', img_rotate_90_clockwise.format(i+981))"
   ]
  },
  {
   "cell_type": "code",
   "execution_count": null,
   "id": "61a764d8",
   "metadata": {},
   "outputs": [],
   "source": [
    "#반시계방향\n",
    "img_rotate_90_counterclockwise = cv2.rotate(img, cv2.ROTATE_90_COUNTERCLOCKWISE)\n",
    "cv2.imwrite('C:/Users/Administrator/Desktop/python/img/python_rotate_90_counterclockwise.png', img_rotate_90_counterclockwise)"
   ]
  },
  {
   "cell_type": "code",
   "execution_count": null,
   "id": "080c659a",
   "metadata": {},
   "outputs": [],
   "source": [
    "img_rotate_180 = cv2.rotate(img, cv2.ROTATE_180)\n",
    "cv2.imwrite('C:/Users/Administrator/Desktop/python/img/python_180.png', img_rotate_180)"
   ]
  }
 ],
 "metadata": {
  "kernelspec": {
   "display_name": "Python 3 (ipykernel)",
   "language": "python",
   "name": "python3"
  },
  "language_info": {
   "codemirror_mode": {
    "name": "ipython",
    "version": 3
   },
   "file_extension": ".py",
   "mimetype": "text/x-python",
   "name": "python",
   "nbconvert_exporter": "python",
   "pygments_lexer": "ipython3",
   "version": "3.9.12"
  }
 },
 "nbformat": 4,
 "nbformat_minor": 5
}
