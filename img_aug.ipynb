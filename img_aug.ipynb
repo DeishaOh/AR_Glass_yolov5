{
 "cells": [
  {
   "cell_type": "markdown",
   "id": "af5b1c42",
   "metadata": {},
   "source": [
    "# 밝기"
   ]
  },
  {
   "cell_type": "code",
   "execution_count": null,
   "id": "86c41183",
   "metadata": {},
   "outputs": [],
   "source": [
    "import shutil\n",
    "from PIL import Image, ImageEnhance, ImageChops\n",
    "import numpy as np\n",
    "import random\n",
    "\n",
    "for i in range(len(files)):\n",
    "    image = Image.open('경로' + files[i])\n",
    "    image = image.convert('RGB')\n",
    "    enhancer = ImageEnhance.Brightness(image)\n",
    "    \n",
    "    #enhance 뒤 숫자 > 1 밝게, < 1 어둡게\n",
    "    brightness_image = enhancer.enhance(1.7)\n",
    "    brightness_image.save('경로' + '파일명{}.jpg'.format(i))    "
   ]
  },
  {
   "cell_type": "markdown",
   "id": "2007e3cc",
   "metadata": {},
   "source": [
    "# 좌우대칭"
   ]
  },
  {
   "cell_type": "code",
   "execution_count": null,
   "id": "a553fac8",
   "metadata": {},
   "outputs": [],
   "source": [
    "horizonal_flip_image = image.transpose(Image.FLIP_LEFT_RIGHT) \n",
    "horizonal_flip_image.save('파일명.jpg')"
   ]
  },
  {
   "cell_type": "markdown",
   "id": "4a4d2a3f",
   "metadata": {},
   "source": [
    "# 상하대칭"
   ]
  },
  {
   "cell_type": "code",
   "execution_count": null,
   "id": "4361df5f",
   "metadata": {},
   "outputs": [],
   "source": [
    "vertical_flip_image = image.transpose(Image.FLIP_TOP_BOTTOM) \n",
    "vertical_flip_image.save('파일명.jpg')"
   ]
  },
  {
   "cell_type": "markdown",
   "id": "ff551c33",
   "metadata": {},
   "source": [
    "# 좌우이동"
   ]
  },
  {
   "cell_type": "code",
   "execution_count": null,
   "id": "66758ce4",
   "metadata": {},
   "outputs": [],
   "source": [
    "width, height = image.size\n",
    "\n",
    "#whith * 숫자 만큼 이동\n",
    "shift = random.randint(0, width * 0.2)\n",
    "horizonal_shift_image = ImageChops.offset(image, shift, 0)\n",
    "horizonal_shift_image.paste((0), (0, 0, shift, height))\n",
    "horizonal_shift_image.save('파일명.jpg')"
   ]
  },
  {
   "cell_type": "markdown",
   "id": "0840ed55",
   "metadata": {},
   "source": [
    "# 상하이동"
   ]
  },
  {
   "cell_type": "code",
   "execution_count": null,
   "id": "7036294c",
   "metadata": {},
   "outputs": [],
   "source": [
    "width, height = image.size\n",
    "\n",
    "#height * 숫자 만큼 이동\n",
    "shift = random.randint(0, height * 0.2)\n",
    "vertical_shift_image = ImageChops.offset(image, 0, shift)\n",
    "vertical_shift_image.paste((0), (0, 0, width, shift))\n",
    "vertical_shift_image.save('파일명.jpg')"
   ]
  },
  {
   "cell_type": "markdown",
   "id": "21bd3213",
   "metadata": {},
   "source": [
    "# 회전"
   ]
  },
  {
   "cell_type": "code",
   "execution_count": null,
   "id": "e296050b",
   "metadata": {},
   "outputs": [],
   "source": [
    "rotate_image = image.rotate(random.randint(-30, 30))\n",
    "rotate_image.save('파일명.jpg')"
   ]
  },
  {
   "cell_type": "markdown",
   "id": "ba5bdf85",
   "metadata": {},
   "source": [
    "# 기울기"
   ]
  },
  {
   "cell_type": "code",
   "execution_count": null,
   "id": "58901e47",
   "metadata": {},
   "outputs": [],
   "source": [
    "#cx, cy = 0.1, 0\n",
    "#cx, cy = 0, 0.1\n",
    "cx, cy = 0, random.uniform(0.0, 0.3)\n",
    "shear_image = image.transform(\n",
    "    image.size,\n",
    "    method=Image.AFFINE,\n",
    "    data=[1, cx, 0,\n",
    "          cy, 1, 0,])\n",
    "shear_image.save('파일명.jpg')"
   ]
  },
  {
   "cell_type": "markdown",
   "id": "6d20e329",
   "metadata": {},
   "source": [
    "# 확대, 축소"
   ]
  },
  {
   "cell_type": "code",
   "execution_count": null,
   "id": "96c0ec4a",
   "metadata": {},
   "outputs": [],
   "source": [
    "zoom = random.uniform(0.7, 1.3) #0.7 ~ 1.3\n",
    "width, height = image.size\n",
    "x = width / 2\n",
    "y = height / 2\n",
    "crop_image = image.crop((x - (width / 2 / zoom), y - (height / 2 / zoom), x + (width / 2 / zoom), y + (height / 2 / zoom)))\n",
    "zoom_image = crop_image.resize((width, height), Image.LANCZOS)\n",
    "zoom_image.save('파일명.jpg')"
   ]
  },
  {
   "cell_type": "markdown",
   "id": "c6b3915d",
   "metadata": {},
   "source": [
    "# 잘라내기"
   ]
  },
  {
   "cell_type": "code",
   "execution_count": null,
   "id": "43f09c20",
   "metadata": {},
   "outputs": [],
   "source": [
    "cropImage = im.crop((100, 100, 250, 150))"
   ]
  }
 ],
 "metadata": {
  "kernelspec": {
   "display_name": "Python 3 (ipykernel)",
   "language": "python",
   "name": "python3"
  },
  "language_info": {
   "codemirror_mode": {
    "name": "ipython",
    "version": 3
   },
   "file_extension": ".py",
   "mimetype": "text/x-python",
   "name": "python",
   "nbconvert_exporter": "python",
   "pygments_lexer": "ipython3",
   "version": "3.9.12"
  }
 },
 "nbformat": 4,
 "nbformat_minor": 5
}
